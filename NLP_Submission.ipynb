{
  "cells": [
    {
      "cell_type": "markdown",
      "metadata": {
        "id": "view-in-github",
        "colab_type": "text"
      },
      "source": [
        "<a href=\"https://colab.research.google.com/github/febri009/NLP-submission/blob/main/NLP_Submission.ipynb\" target=\"_parent\"><img src=\"https://colab.research.google.com/assets/colab-badge.svg\" alt=\"Open In Colab\"/></a>"
      ]
    },
    {
      "cell_type": "markdown",
      "metadata": {
        "id": "SvWXrSvqwJp0"
      },
      "source": [
        "**Submission NLP - Belajar Pengembangan Machine Learning**\n",
        "\n",
        "> Nama: Febriyanti Paramudita\n",
        "\n",
        "\n",
        "> Email: muditafebriyanti@gmail.com\n",
        "\n",
        "\n",
        "> Asal: Purwokerto\n",
        "\n"
      ]
    },
    {
      "cell_type": "markdown",
      "metadata": {
        "id": "LN7eqxfNw8BQ"
      },
      "source": [
        "# **Impor Library dan Mengubah Dataset Menjadi Dataframe**"
      ]
    },
    {
      "cell_type": "code",
      "execution_count": null,
      "metadata": {
        "id": "78g6GH5EvjS0"
      },
      "outputs": [],
      "source": [
        "import pandas as pd\n",
        "import numpy as np\n",
        "import matplotlib.pyplot as plt\n",
        "import tensorflow as tf\n",
        "from sklearn.model_selection import train_test_split\n",
        "from tensorflow.keras.preprocessing.text import Tokenizer\n",
        "from tensorflow.keras.preprocessing.sequence import pad_sequences\n",
        "from keras.utils import to_categorical\n",
        "from tensorflow.keras.optimizers import Adam\n",
        "from tensorflow.keras.callbacks import LearningRateScheduler\n",
        "from sklearn.utils import class_weight\n",
        "from sklearn.utils.class_weight import compute_class_weight"
      ]
    },
    {
      "cell_type": "code",
      "execution_count": null,
      "metadata": {
        "colab": {
          "base_uri": "https://localhost:8080/"
        },
        "id": "AadPUTWMPMqM",
        "outputId": "f47da891-8357-40e1-bfb4-9d8013e680dc"
      },
      "outputs": [
        {
          "name": "stdout",
          "output_type": "stream",
          "text": [
            "Jumlah datasets: 74682\n"
          ]
        }
      ],
      "source": [
        "df = pd.read_csv('drive/MyDrive/twitter.csv')\n",
        "print(f'Jumlah datasets: {len(df)}')"
      ]
    },
    {
      "cell_type": "markdown",
      "metadata": {
        "id": "XwBCYOGu2Vkq"
      },
      "source": [
        "# **Menampilkan 5 sampel teratas pada dataset menggunakan fungsi head()**"
      ]
    },
    {
      "cell_type": "code",
      "execution_count": null,
      "metadata": {
        "colab": {
          "base_uri": "https://localhost:8080/",
          "height": 206
        },
        "id": "GtqPdG8Y2NkJ",
        "outputId": "83303e37-61b9-4b1f-8767-6ae8e5e36a82"
      },
      "outputs": [
        {
          "data": {
            "text/html": [
              "\n",
              "  <div id=\"df-558a803d-fe21-4ec2-8d12-b1d817fe2fc8\" class=\"colab-df-container\">\n",
              "    <div>\n",
              "<style scoped>\n",
              "    .dataframe tbody tr th:only-of-type {\n",
              "        vertical-align: middle;\n",
              "    }\n",
              "\n",
              "    .dataframe tbody tr th {\n",
              "        vertical-align: top;\n",
              "    }\n",
              "\n",
              "    .dataframe thead th {\n",
              "        text-align: right;\n",
              "    }\n",
              "</style>\n",
              "<table border=\"1\" class=\"dataframe\">\n",
              "  <thead>\n",
              "    <tr style=\"text-align: right;\">\n",
              "      <th></th>\n",
              "      <th>value</th>\n",
              "      <th>text</th>\n",
              "    </tr>\n",
              "  </thead>\n",
              "  <tbody>\n",
              "    <tr>\n",
              "      <th>0</th>\n",
              "      <td>Positive</td>\n",
              "      <td>im getting on borderlands and i will murder yo...</td>\n",
              "    </tr>\n",
              "    <tr>\n",
              "      <th>1</th>\n",
              "      <td>Positive</td>\n",
              "      <td>I am coming to the borders and I will kill you...</td>\n",
              "    </tr>\n",
              "    <tr>\n",
              "      <th>2</th>\n",
              "      <td>Positive</td>\n",
              "      <td>im getting on borderlands and i will kill you ...</td>\n",
              "    </tr>\n",
              "    <tr>\n",
              "      <th>3</th>\n",
              "      <td>Positive</td>\n",
              "      <td>im coming on borderlands and i will murder you...</td>\n",
              "    </tr>\n",
              "    <tr>\n",
              "      <th>4</th>\n",
              "      <td>Positive</td>\n",
              "      <td>im getting on borderlands 2 and i will murder ...</td>\n",
              "    </tr>\n",
              "  </tbody>\n",
              "</table>\n",
              "</div>\n",
              "    <div class=\"colab-df-buttons\">\n",
              "\n",
              "  <div class=\"colab-df-container\">\n",
              "    <button class=\"colab-df-convert\" onclick=\"convertToInteractive('df-558a803d-fe21-4ec2-8d12-b1d817fe2fc8')\"\n",
              "            title=\"Convert this dataframe to an interactive table.\"\n",
              "            style=\"display:none;\">\n",
              "\n",
              "  <svg xmlns=\"http://www.w3.org/2000/svg\" height=\"24px\" viewBox=\"0 -960 960 960\">\n",
              "    <path d=\"M120-120v-720h720v720H120Zm60-500h600v-160H180v160Zm220 220h160v-160H400v160Zm0 220h160v-160H400v160ZM180-400h160v-160H180v160Zm440 0h160v-160H620v160ZM180-180h160v-160H180v160Zm440 0h160v-160H620v160Z\"/>\n",
              "  </svg>\n",
              "    </button>\n",
              "\n",
              "  <style>\n",
              "    .colab-df-container {\n",
              "      display:flex;\n",
              "      gap: 12px;\n",
              "    }\n",
              "\n",
              "    .colab-df-convert {\n",
              "      background-color: #E8F0FE;\n",
              "      border: none;\n",
              "      border-radius: 50%;\n",
              "      cursor: pointer;\n",
              "      display: none;\n",
              "      fill: #1967D2;\n",
              "      height: 32px;\n",
              "      padding: 0 0 0 0;\n",
              "      width: 32px;\n",
              "    }\n",
              "\n",
              "    .colab-df-convert:hover {\n",
              "      background-color: #E2EBFA;\n",
              "      box-shadow: 0px 1px 2px rgba(60, 64, 67, 0.3), 0px 1px 3px 1px rgba(60, 64, 67, 0.15);\n",
              "      fill: #174EA6;\n",
              "    }\n",
              "\n",
              "    .colab-df-buttons div {\n",
              "      margin-bottom: 4px;\n",
              "    }\n",
              "\n",
              "    [theme=dark] .colab-df-convert {\n",
              "      background-color: #3B4455;\n",
              "      fill: #D2E3FC;\n",
              "    }\n",
              "\n",
              "    [theme=dark] .colab-df-convert:hover {\n",
              "      background-color: #434B5C;\n",
              "      box-shadow: 0px 1px 3px 1px rgba(0, 0, 0, 0.15);\n",
              "      filter: drop-shadow(0px 1px 2px rgba(0, 0, 0, 0.3));\n",
              "      fill: #FFFFFF;\n",
              "    }\n",
              "  </style>\n",
              "\n",
              "    <script>\n",
              "      const buttonEl =\n",
              "        document.querySelector('#df-558a803d-fe21-4ec2-8d12-b1d817fe2fc8 button.colab-df-convert');\n",
              "      buttonEl.style.display =\n",
              "        google.colab.kernel.accessAllowed ? 'block' : 'none';\n",
              "\n",
              "      async function convertToInteractive(key) {\n",
              "        const element = document.querySelector('#df-558a803d-fe21-4ec2-8d12-b1d817fe2fc8');\n",
              "        const dataTable =\n",
              "          await google.colab.kernel.invokeFunction('convertToInteractive',\n",
              "                                                    [key], {});\n",
              "        if (!dataTable) return;\n",
              "\n",
              "        const docLinkHtml = 'Like what you see? Visit the ' +\n",
              "          '<a target=\"_blank\" href=https://colab.research.google.com/notebooks/data_table.ipynb>data table notebook</a>'\n",
              "          + ' to learn more about interactive tables.';\n",
              "        element.innerHTML = '';\n",
              "        dataTable['output_type'] = 'display_data';\n",
              "        await google.colab.output.renderOutput(dataTable, element);\n",
              "        const docLink = document.createElement('div');\n",
              "        docLink.innerHTML = docLinkHtml;\n",
              "        element.appendChild(docLink);\n",
              "      }\n",
              "    </script>\n",
              "  </div>\n",
              "\n",
              "\n",
              "<div id=\"df-54d4f1cd-c042-4caf-bc6b-3f3f1afeb83f\">\n",
              "  <button class=\"colab-df-quickchart\" onclick=\"quickchart('df-54d4f1cd-c042-4caf-bc6b-3f3f1afeb83f')\"\n",
              "            title=\"Suggest charts\"\n",
              "            style=\"display:none;\">\n",
              "\n",
              "<svg xmlns=\"http://www.w3.org/2000/svg\" height=\"24px\"viewBox=\"0 0 24 24\"\n",
              "     width=\"24px\">\n",
              "    <g>\n",
              "        <path d=\"M19 3H5c-1.1 0-2 .9-2 2v14c0 1.1.9 2 2 2h14c1.1 0 2-.9 2-2V5c0-1.1-.9-2-2-2zM9 17H7v-7h2v7zm4 0h-2V7h2v10zm4 0h-2v-4h2v4z\"/>\n",
              "    </g>\n",
              "</svg>\n",
              "  </button>\n",
              "\n",
              "<style>\n",
              "  .colab-df-quickchart {\n",
              "      --bg-color: #E8F0FE;\n",
              "      --fill-color: #1967D2;\n",
              "      --hover-bg-color: #E2EBFA;\n",
              "      --hover-fill-color: #174EA6;\n",
              "      --disabled-fill-color: #AAA;\n",
              "      --disabled-bg-color: #DDD;\n",
              "  }\n",
              "\n",
              "  [theme=dark] .colab-df-quickchart {\n",
              "      --bg-color: #3B4455;\n",
              "      --fill-color: #D2E3FC;\n",
              "      --hover-bg-color: #434B5C;\n",
              "      --hover-fill-color: #FFFFFF;\n",
              "      --disabled-bg-color: #3B4455;\n",
              "      --disabled-fill-color: #666;\n",
              "  }\n",
              "\n",
              "  .colab-df-quickchart {\n",
              "    background-color: var(--bg-color);\n",
              "    border: none;\n",
              "    border-radius: 50%;\n",
              "    cursor: pointer;\n",
              "    display: none;\n",
              "    fill: var(--fill-color);\n",
              "    height: 32px;\n",
              "    padding: 0;\n",
              "    width: 32px;\n",
              "  }\n",
              "\n",
              "  .colab-df-quickchart:hover {\n",
              "    background-color: var(--hover-bg-color);\n",
              "    box-shadow: 0 1px 2px rgba(60, 64, 67, 0.3), 0 1px 3px 1px rgba(60, 64, 67, 0.15);\n",
              "    fill: var(--button-hover-fill-color);\n",
              "  }\n",
              "\n",
              "  .colab-df-quickchart-complete:disabled,\n",
              "  .colab-df-quickchart-complete:disabled:hover {\n",
              "    background-color: var(--disabled-bg-color);\n",
              "    fill: var(--disabled-fill-color);\n",
              "    box-shadow: none;\n",
              "  }\n",
              "\n",
              "  .colab-df-spinner {\n",
              "    border: 2px solid var(--fill-color);\n",
              "    border-color: transparent;\n",
              "    border-bottom-color: var(--fill-color);\n",
              "    animation:\n",
              "      spin 1s steps(1) infinite;\n",
              "  }\n",
              "\n",
              "  @keyframes spin {\n",
              "    0% {\n",
              "      border-color: transparent;\n",
              "      border-bottom-color: var(--fill-color);\n",
              "      border-left-color: var(--fill-color);\n",
              "    }\n",
              "    20% {\n",
              "      border-color: transparent;\n",
              "      border-left-color: var(--fill-color);\n",
              "      border-top-color: var(--fill-color);\n",
              "    }\n",
              "    30% {\n",
              "      border-color: transparent;\n",
              "      border-left-color: var(--fill-color);\n",
              "      border-top-color: var(--fill-color);\n",
              "      border-right-color: var(--fill-color);\n",
              "    }\n",
              "    40% {\n",
              "      border-color: transparent;\n",
              "      border-right-color: var(--fill-color);\n",
              "      border-top-color: var(--fill-color);\n",
              "    }\n",
              "    60% {\n",
              "      border-color: transparent;\n",
              "      border-right-color: var(--fill-color);\n",
              "    }\n",
              "    80% {\n",
              "      border-color: transparent;\n",
              "      border-right-color: var(--fill-color);\n",
              "      border-bottom-color: var(--fill-color);\n",
              "    }\n",
              "    90% {\n",
              "      border-color: transparent;\n",
              "      border-bottom-color: var(--fill-color);\n",
              "    }\n",
              "  }\n",
              "</style>\n",
              "\n",
              "  <script>\n",
              "    async function quickchart(key) {\n",
              "      const quickchartButtonEl =\n",
              "        document.querySelector('#' + key + ' button');\n",
              "      quickchartButtonEl.disabled = true;  // To prevent multiple clicks.\n",
              "      quickchartButtonEl.classList.add('colab-df-spinner');\n",
              "      try {\n",
              "        const charts = await google.colab.kernel.invokeFunction(\n",
              "            'suggestCharts', [key], {});\n",
              "      } catch (error) {\n",
              "        console.error('Error during call to suggestCharts:', error);\n",
              "      }\n",
              "      quickchartButtonEl.classList.remove('colab-df-spinner');\n",
              "      quickchartButtonEl.classList.add('colab-df-quickchart-complete');\n",
              "    }\n",
              "    (() => {\n",
              "      let quickchartButtonEl =\n",
              "        document.querySelector('#df-54d4f1cd-c042-4caf-bc6b-3f3f1afeb83f button');\n",
              "      quickchartButtonEl.style.display =\n",
              "        google.colab.kernel.accessAllowed ? 'block' : 'none';\n",
              "    })();\n",
              "  </script>\n",
              "</div>\n",
              "    </div>\n",
              "  </div>\n"
            ],
            "text/plain": [
              "      value                                               text\n",
              "0  Positive  im getting on borderlands and i will murder yo...\n",
              "1  Positive  I am coming to the borders and I will kill you...\n",
              "2  Positive  im getting on borderlands and i will kill you ...\n",
              "3  Positive  im coming on borderlands and i will murder you...\n",
              "4  Positive  im getting on borderlands 2 and i will murder ..."
            ]
          },
          "execution_count": 18,
          "metadata": {},
          "output_type": "execute_result"
        }
      ],
      "source": [
        "df.head()"
      ]
    },
    {
      "cell_type": "markdown",
      "metadata": {
        "id": "cNNSold9GFSV"
      },
      "source": [
        "# **Cek Info Dataset**"
      ]
    },
    {
      "cell_type": "code",
      "execution_count": null,
      "metadata": {
        "colab": {
          "base_uri": "https://localhost:8080/"
        },
        "id": "cudGO9VkGH2c",
        "outputId": "b3ed9a31-e6c2-43a5-c709-b455e3163b5a"
      },
      "outputs": [
        {
          "name": "stdout",
          "output_type": "stream",
          "text": [
            "<class 'pandas.core.frame.DataFrame'>\n",
            "RangeIndex: 74682 entries, 0 to 74681\n",
            "Data columns (total 2 columns):\n",
            " #   Column  Non-Null Count  Dtype \n",
            "---  ------  --------------  ----- \n",
            " 0   value   74682 non-null  object\n",
            " 1   text    73996 non-null  object\n",
            "dtypes: object(2)\n",
            "memory usage: 1.1+ MB\n"
          ]
        }
      ],
      "source": [
        "df.info()"
      ]
    },
    {
      "cell_type": "markdown",
      "metadata": {
        "id": "skMVk-QZGTFL"
      },
      "source": [
        "# **Menghitung Nilai Dataset Value**"
      ]
    },
    {
      "cell_type": "code",
      "execution_count": null,
      "metadata": {
        "colab": {
          "base_uri": "https://localhost:8080/"
        },
        "id": "Ug2TrLWsGVjA",
        "outputId": "2f965ad3-080d-4e01-baf7-45c78555728d"
      },
      "outputs": [
        {
          "data": {
            "text/plain": [
              "Negative      22542\n",
              "Positive      20832\n",
              "Neutral       18318\n",
              "Irrelevant    12990\n",
              "Name: value, dtype: int64"
            ]
          },
          "execution_count": 20,
          "metadata": {},
          "output_type": "execute_result"
        }
      ],
      "source": [
        "df.value.value_counts()"
      ]
    },
    {
      "cell_type": "markdown",
      "metadata": {
        "id": "DEZJrVZA2cmn"
      },
      "source": [
        "# **One-hot-encoding dan membuat dataframe baru**"
      ]
    },
    {
      "cell_type": "code",
      "execution_count": null,
      "metadata": {
        "colab": {
          "base_uri": "https://localhost:8080/",
          "height": 424
        },
        "id": "J0j-Sq3M2hYM",
        "outputId": "5c36c6a6-1625-4a58-cefa-d4f3fc73f3ae"
      },
      "outputs": [
        {
          "data": {
            "text/html": [
              "\n",
              "  <div id=\"df-ec186d1b-203e-40de-b204-069e22ecc4a1\" class=\"colab-df-container\">\n",
              "    <div>\n",
              "<style scoped>\n",
              "    .dataframe tbody tr th:only-of-type {\n",
              "        vertical-align: middle;\n",
              "    }\n",
              "\n",
              "    .dataframe tbody tr th {\n",
              "        vertical-align: top;\n",
              "    }\n",
              "\n",
              "    .dataframe thead th {\n",
              "        text-align: right;\n",
              "    }\n",
              "</style>\n",
              "<table border=\"1\" class=\"dataframe\">\n",
              "  <thead>\n",
              "    <tr style=\"text-align: right;\">\n",
              "      <th></th>\n",
              "      <th>text</th>\n",
              "      <th>Irrelevant</th>\n",
              "      <th>Negative</th>\n",
              "      <th>Neutral</th>\n",
              "      <th>Positive</th>\n",
              "    </tr>\n",
              "  </thead>\n",
              "  <tbody>\n",
              "    <tr>\n",
              "      <th>0</th>\n",
              "      <td>im getting on borderlands and i will murder yo...</td>\n",
              "      <td>0</td>\n",
              "      <td>0</td>\n",
              "      <td>0</td>\n",
              "      <td>1</td>\n",
              "    </tr>\n",
              "    <tr>\n",
              "      <th>1</th>\n",
              "      <td>I am coming to the borders and I will kill you...</td>\n",
              "      <td>0</td>\n",
              "      <td>0</td>\n",
              "      <td>0</td>\n",
              "      <td>1</td>\n",
              "    </tr>\n",
              "    <tr>\n",
              "      <th>2</th>\n",
              "      <td>im getting on borderlands and i will kill you ...</td>\n",
              "      <td>0</td>\n",
              "      <td>0</td>\n",
              "      <td>0</td>\n",
              "      <td>1</td>\n",
              "    </tr>\n",
              "    <tr>\n",
              "      <th>3</th>\n",
              "      <td>im coming on borderlands and i will murder you...</td>\n",
              "      <td>0</td>\n",
              "      <td>0</td>\n",
              "      <td>0</td>\n",
              "      <td>1</td>\n",
              "    </tr>\n",
              "    <tr>\n",
              "      <th>4</th>\n",
              "      <td>im getting on borderlands 2 and i will murder ...</td>\n",
              "      <td>0</td>\n",
              "      <td>0</td>\n",
              "      <td>0</td>\n",
              "      <td>1</td>\n",
              "    </tr>\n",
              "    <tr>\n",
              "      <th>...</th>\n",
              "      <td>...</td>\n",
              "      <td>...</td>\n",
              "      <td>...</td>\n",
              "      <td>...</td>\n",
              "      <td>...</td>\n",
              "    </tr>\n",
              "    <tr>\n",
              "      <th>74677</th>\n",
              "      <td>Just realized that the Windows partition of my...</td>\n",
              "      <td>0</td>\n",
              "      <td>0</td>\n",
              "      <td>0</td>\n",
              "      <td>1</td>\n",
              "    </tr>\n",
              "    <tr>\n",
              "      <th>74678</th>\n",
              "      <td>Just realized that my Mac window partition is ...</td>\n",
              "      <td>0</td>\n",
              "      <td>0</td>\n",
              "      <td>0</td>\n",
              "      <td>1</td>\n",
              "    </tr>\n",
              "    <tr>\n",
              "      <th>74679</th>\n",
              "      <td>Just realized the windows partition of my Mac ...</td>\n",
              "      <td>0</td>\n",
              "      <td>0</td>\n",
              "      <td>0</td>\n",
              "      <td>1</td>\n",
              "    </tr>\n",
              "    <tr>\n",
              "      <th>74680</th>\n",
              "      <td>Just realized between the windows partition of...</td>\n",
              "      <td>0</td>\n",
              "      <td>0</td>\n",
              "      <td>0</td>\n",
              "      <td>1</td>\n",
              "    </tr>\n",
              "    <tr>\n",
              "      <th>74681</th>\n",
              "      <td>Just like the windows partition of my Mac is l...</td>\n",
              "      <td>0</td>\n",
              "      <td>0</td>\n",
              "      <td>0</td>\n",
              "      <td>1</td>\n",
              "    </tr>\n",
              "  </tbody>\n",
              "</table>\n",
              "<p>74682 rows × 5 columns</p>\n",
              "</div>\n",
              "    <div class=\"colab-df-buttons\">\n",
              "\n",
              "  <div class=\"colab-df-container\">\n",
              "    <button class=\"colab-df-convert\" onclick=\"convertToInteractive('df-ec186d1b-203e-40de-b204-069e22ecc4a1')\"\n",
              "            title=\"Convert this dataframe to an interactive table.\"\n",
              "            style=\"display:none;\">\n",
              "\n",
              "  <svg xmlns=\"http://www.w3.org/2000/svg\" height=\"24px\" viewBox=\"0 -960 960 960\">\n",
              "    <path d=\"M120-120v-720h720v720H120Zm60-500h600v-160H180v160Zm220 220h160v-160H400v160Zm0 220h160v-160H400v160ZM180-400h160v-160H180v160Zm440 0h160v-160H620v160ZM180-180h160v-160H180v160Zm440 0h160v-160H620v160Z\"/>\n",
              "  </svg>\n",
              "    </button>\n",
              "\n",
              "  <style>\n",
              "    .colab-df-container {\n",
              "      display:flex;\n",
              "      gap: 12px;\n",
              "    }\n",
              "\n",
              "    .colab-df-convert {\n",
              "      background-color: #E8F0FE;\n",
              "      border: none;\n",
              "      border-radius: 50%;\n",
              "      cursor: pointer;\n",
              "      display: none;\n",
              "      fill: #1967D2;\n",
              "      height: 32px;\n",
              "      padding: 0 0 0 0;\n",
              "      width: 32px;\n",
              "    }\n",
              "\n",
              "    .colab-df-convert:hover {\n",
              "      background-color: #E2EBFA;\n",
              "      box-shadow: 0px 1px 2px rgba(60, 64, 67, 0.3), 0px 1px 3px 1px rgba(60, 64, 67, 0.15);\n",
              "      fill: #174EA6;\n",
              "    }\n",
              "\n",
              "    .colab-df-buttons div {\n",
              "      margin-bottom: 4px;\n",
              "    }\n",
              "\n",
              "    [theme=dark] .colab-df-convert {\n",
              "      background-color: #3B4455;\n",
              "      fill: #D2E3FC;\n",
              "    }\n",
              "\n",
              "    [theme=dark] .colab-df-convert:hover {\n",
              "      background-color: #434B5C;\n",
              "      box-shadow: 0px 1px 3px 1px rgba(0, 0, 0, 0.15);\n",
              "      filter: drop-shadow(0px 1px 2px rgba(0, 0, 0, 0.3));\n",
              "      fill: #FFFFFF;\n",
              "    }\n",
              "  </style>\n",
              "\n",
              "    <script>\n",
              "      const buttonEl =\n",
              "        document.querySelector('#df-ec186d1b-203e-40de-b204-069e22ecc4a1 button.colab-df-convert');\n",
              "      buttonEl.style.display =\n",
              "        google.colab.kernel.accessAllowed ? 'block' : 'none';\n",
              "\n",
              "      async function convertToInteractive(key) {\n",
              "        const element = document.querySelector('#df-ec186d1b-203e-40de-b204-069e22ecc4a1');\n",
              "        const dataTable =\n",
              "          await google.colab.kernel.invokeFunction('convertToInteractive',\n",
              "                                                    [key], {});\n",
              "        if (!dataTable) return;\n",
              "\n",
              "        const docLinkHtml = 'Like what you see? Visit the ' +\n",
              "          '<a target=\"_blank\" href=https://colab.research.google.com/notebooks/data_table.ipynb>data table notebook</a>'\n",
              "          + ' to learn more about interactive tables.';\n",
              "        element.innerHTML = '';\n",
              "        dataTable['output_type'] = 'display_data';\n",
              "        await google.colab.output.renderOutput(dataTable, element);\n",
              "        const docLink = document.createElement('div');\n",
              "        docLink.innerHTML = docLinkHtml;\n",
              "        element.appendChild(docLink);\n",
              "      }\n",
              "    </script>\n",
              "  </div>\n",
              "\n",
              "\n",
              "<div id=\"df-978ad206-a0c0-400c-a7fe-6f04bf8d16d2\">\n",
              "  <button class=\"colab-df-quickchart\" onclick=\"quickchart('df-978ad206-a0c0-400c-a7fe-6f04bf8d16d2')\"\n",
              "            title=\"Suggest charts\"\n",
              "            style=\"display:none;\">\n",
              "\n",
              "<svg xmlns=\"http://www.w3.org/2000/svg\" height=\"24px\"viewBox=\"0 0 24 24\"\n",
              "     width=\"24px\">\n",
              "    <g>\n",
              "        <path d=\"M19 3H5c-1.1 0-2 .9-2 2v14c0 1.1.9 2 2 2h14c1.1 0 2-.9 2-2V5c0-1.1-.9-2-2-2zM9 17H7v-7h2v7zm4 0h-2V7h2v10zm4 0h-2v-4h2v4z\"/>\n",
              "    </g>\n",
              "</svg>\n",
              "  </button>\n",
              "\n",
              "<style>\n",
              "  .colab-df-quickchart {\n",
              "      --bg-color: #E8F0FE;\n",
              "      --fill-color: #1967D2;\n",
              "      --hover-bg-color: #E2EBFA;\n",
              "      --hover-fill-color: #174EA6;\n",
              "      --disabled-fill-color: #AAA;\n",
              "      --disabled-bg-color: #DDD;\n",
              "  }\n",
              "\n",
              "  [theme=dark] .colab-df-quickchart {\n",
              "      --bg-color: #3B4455;\n",
              "      --fill-color: #D2E3FC;\n",
              "      --hover-bg-color: #434B5C;\n",
              "      --hover-fill-color: #FFFFFF;\n",
              "      --disabled-bg-color: #3B4455;\n",
              "      --disabled-fill-color: #666;\n",
              "  }\n",
              "\n",
              "  .colab-df-quickchart {\n",
              "    background-color: var(--bg-color);\n",
              "    border: none;\n",
              "    border-radius: 50%;\n",
              "    cursor: pointer;\n",
              "    display: none;\n",
              "    fill: var(--fill-color);\n",
              "    height: 32px;\n",
              "    padding: 0;\n",
              "    width: 32px;\n",
              "  }\n",
              "\n",
              "  .colab-df-quickchart:hover {\n",
              "    background-color: var(--hover-bg-color);\n",
              "    box-shadow: 0 1px 2px rgba(60, 64, 67, 0.3), 0 1px 3px 1px rgba(60, 64, 67, 0.15);\n",
              "    fill: var(--button-hover-fill-color);\n",
              "  }\n",
              "\n",
              "  .colab-df-quickchart-complete:disabled,\n",
              "  .colab-df-quickchart-complete:disabled:hover {\n",
              "    background-color: var(--disabled-bg-color);\n",
              "    fill: var(--disabled-fill-color);\n",
              "    box-shadow: none;\n",
              "  }\n",
              "\n",
              "  .colab-df-spinner {\n",
              "    border: 2px solid var(--fill-color);\n",
              "    border-color: transparent;\n",
              "    border-bottom-color: var(--fill-color);\n",
              "    animation:\n",
              "      spin 1s steps(1) infinite;\n",
              "  }\n",
              "\n",
              "  @keyframes spin {\n",
              "    0% {\n",
              "      border-color: transparent;\n",
              "      border-bottom-color: var(--fill-color);\n",
              "      border-left-color: var(--fill-color);\n",
              "    }\n",
              "    20% {\n",
              "      border-color: transparent;\n",
              "      border-left-color: var(--fill-color);\n",
              "      border-top-color: var(--fill-color);\n",
              "    }\n",
              "    30% {\n",
              "      border-color: transparent;\n",
              "      border-left-color: var(--fill-color);\n",
              "      border-top-color: var(--fill-color);\n",
              "      border-right-color: var(--fill-color);\n",
              "    }\n",
              "    40% {\n",
              "      border-color: transparent;\n",
              "      border-right-color: var(--fill-color);\n",
              "      border-top-color: var(--fill-color);\n",
              "    }\n",
              "    60% {\n",
              "      border-color: transparent;\n",
              "      border-right-color: var(--fill-color);\n",
              "    }\n",
              "    80% {\n",
              "      border-color: transparent;\n",
              "      border-right-color: var(--fill-color);\n",
              "      border-bottom-color: var(--fill-color);\n",
              "    }\n",
              "    90% {\n",
              "      border-color: transparent;\n",
              "      border-bottom-color: var(--fill-color);\n",
              "    }\n",
              "  }\n",
              "</style>\n",
              "\n",
              "  <script>\n",
              "    async function quickchart(key) {\n",
              "      const quickchartButtonEl =\n",
              "        document.querySelector('#' + key + ' button');\n",
              "      quickchartButtonEl.disabled = true;  // To prevent multiple clicks.\n",
              "      quickchartButtonEl.classList.add('colab-df-spinner');\n",
              "      try {\n",
              "        const charts = await google.colab.kernel.invokeFunction(\n",
              "            'suggestCharts', [key], {});\n",
              "      } catch (error) {\n",
              "        console.error('Error during call to suggestCharts:', error);\n",
              "      }\n",
              "      quickchartButtonEl.classList.remove('colab-df-spinner');\n",
              "      quickchartButtonEl.classList.add('colab-df-quickchart-complete');\n",
              "    }\n",
              "    (() => {\n",
              "      let quickchartButtonEl =\n",
              "        document.querySelector('#df-978ad206-a0c0-400c-a7fe-6f04bf8d16d2 button');\n",
              "      quickchartButtonEl.style.display =\n",
              "        google.colab.kernel.accessAllowed ? 'block' : 'none';\n",
              "    })();\n",
              "  </script>\n",
              "</div>\n",
              "    </div>\n",
              "  </div>\n"
            ],
            "text/plain": [
              "                                                    text  Irrelevant  \\\n",
              "0      im getting on borderlands and i will murder yo...           0   \n",
              "1      I am coming to the borders and I will kill you...           0   \n",
              "2      im getting on borderlands and i will kill you ...           0   \n",
              "3      im coming on borderlands and i will murder you...           0   \n",
              "4      im getting on borderlands 2 and i will murder ...           0   \n",
              "...                                                  ...         ...   \n",
              "74677  Just realized that the Windows partition of my...           0   \n",
              "74678  Just realized that my Mac window partition is ...           0   \n",
              "74679  Just realized the windows partition of my Mac ...           0   \n",
              "74680  Just realized between the windows partition of...           0   \n",
              "74681  Just like the windows partition of my Mac is l...           0   \n",
              "\n",
              "       Negative  Neutral  Positive  \n",
              "0             0        0         1  \n",
              "1             0        0         1  \n",
              "2             0        0         1  \n",
              "3             0        0         1  \n",
              "4             0        0         1  \n",
              "...         ...      ...       ...  \n",
              "74677         0        0         1  \n",
              "74678         0        0         1  \n",
              "74679         0        0         1  \n",
              "74680         0        0         1  \n",
              "74681         0        0         1  \n",
              "\n",
              "[74682 rows x 5 columns]"
            ]
          },
          "execution_count": 21,
          "metadata": {},
          "output_type": "execute_result"
        }
      ],
      "source": [
        "category = pd.get_dummies(df.value)\n",
        "df_baru = pd.concat([df, category], axis=1)\n",
        "df_baru = df_baru.drop(columns='value', axis=1)\n",
        "df_baru"
      ]
    },
    {
      "cell_type": "markdown",
      "metadata": {
        "id": "NEcUQ_ZK3zrr"
      },
      "source": [
        "# **Mengubah nilai-nilai dataframe ke dalam tipe data numpy array**"
      ]
    },
    {
      "cell_type": "code",
      "execution_count": null,
      "metadata": {
        "id": "r2Qpqa8I33Rx"
      },
      "outputs": [],
      "source": [
        "text = df_baru['text'].values\n",
        "label = df_baru[['Irrelevant', 'Negative', 'Neutral', 'Positive']].values"
      ]
    },
    {
      "cell_type": "markdown",
      "metadata": {
        "id": "PmphL3I64SA6"
      },
      "source": [
        "# **Membagi data training dan testing**"
      ]
    },
    {
      "cell_type": "code",
      "execution_count": null,
      "metadata": {
        "id": "ujODD3vF4UPd"
      },
      "outputs": [],
      "source": [
        "text_latih, text_test, label_latih, label_test = train_test_split(text, label, test_size = 0.2, random_state=42, shuffle= True)"
      ]
    },
    {
      "cell_type": "markdown",
      "metadata": {
        "id": "0dCBb5pt4l9N"
      },
      "source": [
        "# **Menggunakan fungsi Tokenizer**"
      ]
    },
    {
      "cell_type": "code",
      "execution_count": null,
      "metadata": {
        "id": "vBSIu1704qWa"
      },
      "outputs": [],
      "source": [
        "text_latih = [str(item) for item in text_latih]\n",
        "text_test = [str(item) for item in text_test]\n",
        "\n",
        "tokenizer = Tokenizer(num_words=5000, oov_token='x')\n",
        "tokenizer.fit_on_texts(text_latih)\n",
        "tokenizer.fit_on_texts(text_test)\n",
        "\n",
        "sekuens_latih = tokenizer.texts_to_sequences(text_latih)\n",
        "sekuens_test = tokenizer.texts_to_sequences(text_test)\n",
        "\n",
        "padded_latih = pad_sequences(sekuens_latih)\n",
        "padded_test = pad_sequences(sekuens_test)"
      ]
    },
    {
      "cell_type": "markdown",
      "metadata": {
        "id": "BF0hAVAa6v1h"
      },
      "source": [
        "## **Arsitektur Model**"
      ]
    },
    {
      "cell_type": "code",
      "execution_count": null,
      "metadata": {
        "colab": {
          "base_uri": "https://localhost:8080/"
        },
        "id": "1YPk1Hlj60U1",
        "outputId": "54000193-9fe1-4c6b-add9-8d1703638f4e"
      },
      "outputs": [
        {
          "name": "stdout",
          "output_type": "stream",
          "text": [
            "Model: \"sequential_2\"\n",
            "_________________________________________________________________\n",
            " Layer (type)                Output Shape              Param #   \n",
            "=================================================================\n",
            " embedding_2 (Embedding)     (None, None, 8)           40000     \n",
            "                                                                 \n",
            " dropout_6 (Dropout)         (None, None, 8)           0         \n",
            "                                                                 \n",
            " lstm_2 (LSTM)               (None, 64)                18688     \n",
            "                                                                 \n",
            " dense_6 (Dense)             (None, 128)               8320      \n",
            "                                                                 \n",
            " dropout_7 (Dropout)         (None, 128)               0         \n",
            "                                                                 \n",
            " dense_7 (Dense)             (None, 64)                8256      \n",
            "                                                                 \n",
            " dropout_8 (Dropout)         (None, 64)                0         \n",
            "                                                                 \n",
            " dense_8 (Dense)             (None, 4)                 260       \n",
            "                                                                 \n",
            "=================================================================\n",
            "Total params: 75524 (295.02 KB)\n",
            "Trainable params: 75524 (295.02 KB)\n",
            "Non-trainable params: 0 (0.00 Byte)\n",
            "_________________________________________________________________\n"
          ]
        }
      ],
      "source": [
        "model = tf.keras.Sequential([\n",
        "    tf.keras.layers.Embedding(input_dim=5000, output_dim=8),\n",
        "    tf.keras.layers.Dropout(0.3),\n",
        "    tf.keras.layers.LSTM(64),\n",
        "    tf.keras.layers.Dense(128, activation='relu'),\n",
        "    tf.keras.layers.Dropout(0.15),\n",
        "    tf.keras.layers.Dense(64, activation='relu'),\n",
        "    tf.keras.layers.Dropout(0.15),\n",
        "    tf.keras.layers.Dense(4, activation='softmax')\n",
        "])\n",
        "\n",
        "model.compile(loss='categorical_crossentropy',optimizer='adam',metrics=['accuracy'])\n",
        "\n",
        "model.summary()\n",
        "\n",
        "#label_latih_onehot = to_categorical(label_latih.argmax(axis=1), num_classes=4)\n",
        "#label_test_onehot = to_categorical(label_test.argmax(axis=1), num_classes=4)"
      ]
    },
    {
      "cell_type": "markdown",
      "metadata": {
        "id": "rcEKfZrZOkO-"
      },
      "source": [
        "# **Callback**"
      ]
    },
    {
      "cell_type": "code",
      "execution_count": null,
      "metadata": {
        "id": "FyGub8iOOmW6"
      },
      "outputs": [],
      "source": [
        "class myCallback(tf.keras.callbacks.Callback):\n",
        "  def on_epoch_end(self, epoch, logs={}):\n",
        "    if(logs.get('accuracy')>0.9 and logs.get('val_accuracy')>0.9):\n",
        "      self.model.stop_training = True\n",
        "      print(\"\\nThe accuracy has reached > 90%!\")\n",
        "callbacks = myCallback()"
      ]
    },
    {
      "cell_type": "markdown",
      "metadata": {
        "id": "ffsCo0P-7ZK4"
      },
      "source": [
        "# **Training model**"
      ]
    },
    {
      "cell_type": "code",
      "execution_count": null,
      "metadata": {
        "colab": {
          "background_save": true,
          "base_uri": "https://localhost:8080/"
        },
        "id": "MvKToFvE7aUj",
        "outputId": "c7657920-4247-40c1-ca50-8914cbcabf7b"
      },
      "outputs": [
        {
          "name": "stdout",
          "output_type": "stream",
          "text": [
            "Epoch 1/50\n",
            "934/934 - 111s - loss: 0.4935 - accuracy: 0.8036 - val_loss: 0.5362 - val_accuracy: 0.8007 - 111s/epoch - 118ms/step\n",
            "Epoch 2/50\n",
            "934/934 - 110s - loss: 0.4903 - accuracy: 0.8065 - val_loss: 0.5220 - val_accuracy: 0.8051 - 110s/epoch - 117ms/step\n",
            "Epoch 3/50\n",
            "934/934 - 109s - loss: 0.4844 - accuracy: 0.8093 - val_loss: 0.5169 - val_accuracy: 0.8056 - 109s/epoch - 116ms/step\n",
            "Epoch 4/50\n",
            "934/934 - 109s - loss: 0.4853 - accuracy: 0.8091 - val_loss: 0.5219 - val_accuracy: 0.8056 - 109s/epoch - 117ms/step\n",
            "Epoch 5/50\n",
            "934/934 - 107s - loss: 0.4811 - accuracy: 0.8069 - val_loss: 0.5234 - val_accuracy: 0.8073 - 107s/epoch - 114ms/step\n",
            "Epoch 6/50\n",
            "934/934 - 110s - loss: 0.4806 - accuracy: 0.8101 - val_loss: 0.5174 - val_accuracy: 0.8085 - 110s/epoch - 118ms/step\n",
            "Epoch 7/50\n",
            "934/934 - 110s - loss: 0.4769 - accuracy: 0.8105 - val_loss: 0.5148 - val_accuracy: 0.8109 - 110s/epoch - 117ms/step\n",
            "Epoch 8/50\n",
            "934/934 - 114s - loss: 0.4745 - accuracy: 0.8115 - val_loss: 0.5166 - val_accuracy: 0.8087 - 114s/epoch - 122ms/step\n",
            "Epoch 9/50\n",
            "934/934 - 113s - loss: 0.4739 - accuracy: 0.8119 - val_loss: 0.5155 - val_accuracy: 0.8061 - 113s/epoch - 121ms/step\n",
            "Epoch 10/50\n",
            "934/934 - 113s - loss: 0.4717 - accuracy: 0.8152 - val_loss: 0.5104 - val_accuracy: 0.8109 - 113s/epoch - 121ms/step\n",
            "Epoch 11/50\n",
            "934/934 - 112s - loss: 0.4713 - accuracy: 0.8133 - val_loss: 0.5127 - val_accuracy: 0.8109 - 112s/epoch - 120ms/step\n",
            "Epoch 12/50\n",
            "934/934 - 113s - loss: 0.4700 - accuracy: 0.8149 - val_loss: 0.5118 - val_accuracy: 0.8123 - 113s/epoch - 121ms/step\n",
            "Epoch 13/50\n",
            "934/934 - 114s - loss: 0.4652 - accuracy: 0.8164 - val_loss: 0.5146 - val_accuracy: 0.8124 - 114s/epoch - 122ms/step\n",
            "Epoch 14/50\n",
            "934/934 - 112s - loss: 0.4612 - accuracy: 0.8160 - val_loss: 0.5130 - val_accuracy: 0.8103 - 112s/epoch - 120ms/step\n",
            "Epoch 15/50\n",
            "934/934 - 108s - loss: 0.4624 - accuracy: 0.8180 - val_loss: 0.5081 - val_accuracy: 0.8144 - 108s/epoch - 116ms/step\n",
            "Epoch 16/50\n",
            "934/934 - 108s - loss: 0.4588 - accuracy: 0.8190 - val_loss: 0.5104 - val_accuracy: 0.8135 - 108s/epoch - 116ms/step\n",
            "Epoch 17/50\n",
            "934/934 - 108s - loss: 0.4564 - accuracy: 0.8188 - val_loss: 0.5029 - val_accuracy: 0.8161 - 108s/epoch - 116ms/step\n",
            "Epoch 18/50\n",
            "934/934 - 109s - loss: 0.4555 - accuracy: 0.8189 - val_loss: 0.5116 - val_accuracy: 0.8121 - 109s/epoch - 117ms/step\n",
            "Epoch 19/50\n",
            "934/934 - 109s - loss: 0.4548 - accuracy: 0.8196 - val_loss: 0.5141 - val_accuracy: 0.8097 - 109s/epoch - 117ms/step\n",
            "Epoch 20/50\n",
            "934/934 - 107s - loss: 0.4474 - accuracy: 0.8235 - val_loss: 0.5092 - val_accuracy: 0.8131 - 107s/epoch - 115ms/step\n",
            "Epoch 21/50\n",
            "934/934 - 111s - loss: 0.4494 - accuracy: 0.8226 - val_loss: 0.5052 - val_accuracy: 0.8152 - 111s/epoch - 119ms/step\n",
            "Epoch 22/50\n",
            "934/934 - 108s - loss: 0.4490 - accuracy: 0.8230 - val_loss: 0.5014 - val_accuracy: 0.8186 - 108s/epoch - 116ms/step\n",
            "Epoch 23/50\n",
            "934/934 - 108s - loss: 0.4458 - accuracy: 0.8232 - val_loss: 0.5025 - val_accuracy: 0.8165 - 108s/epoch - 116ms/step\n",
            "Epoch 24/50\n",
            "934/934 - 109s - loss: 0.4397 - accuracy: 0.8266 - val_loss: 0.5068 - val_accuracy: 0.8128 - 109s/epoch - 117ms/step\n",
            "Epoch 25/50\n",
            "934/934 - 109s - loss: 0.4456 - accuracy: 0.8225 - val_loss: 0.5018 - val_accuracy: 0.8168 - 109s/epoch - 117ms/step\n",
            "Epoch 26/50\n",
            "934/934 - 110s - loss: 0.4414 - accuracy: 0.8245 - val_loss: 0.5013 - val_accuracy: 0.8188 - 110s/epoch - 118ms/step\n",
            "Epoch 27/50\n",
            "934/934 - 109s - loss: 0.4383 - accuracy: 0.8247 - val_loss: 0.5024 - val_accuracy: 0.8176 - 109s/epoch - 116ms/step\n",
            "Epoch 28/50\n",
            "934/934 - 111s - loss: 0.4381 - accuracy: 0.8245 - val_loss: 0.4943 - val_accuracy: 0.8223 - 111s/epoch - 119ms/step\n",
            "Epoch 29/50\n",
            "934/934 - 111s - loss: 0.4352 - accuracy: 0.8274 - val_loss: 0.5095 - val_accuracy: 0.8129 - 111s/epoch - 118ms/step\n",
            "Epoch 30/50\n",
            "934/934 - 109s - loss: 0.4318 - accuracy: 0.8274 - val_loss: 0.5046 - val_accuracy: 0.8195 - 109s/epoch - 117ms/step\n",
            "Epoch 31/50\n",
            "934/934 - 109s - loss: 0.4385 - accuracy: 0.8261 - val_loss: 0.4990 - val_accuracy: 0.8192 - 109s/epoch - 117ms/step\n",
            "Epoch 32/50\n",
            "934/934 - 109s - loss: 0.4294 - accuracy: 0.8300 - val_loss: 0.4991 - val_accuracy: 0.8174 - 109s/epoch - 117ms/step\n",
            "Epoch 33/50\n",
            "934/934 - 109s - loss: 0.4335 - accuracy: 0.8286 - val_loss: 0.4987 - val_accuracy: 0.8199 - 109s/epoch - 117ms/step\n",
            "Epoch 34/50\n",
            "934/934 - 109s - loss: 0.4301 - accuracy: 0.8292 - val_loss: 0.4916 - val_accuracy: 0.8239 - 109s/epoch - 117ms/step\n",
            "Epoch 35/50\n",
            "934/934 - 108s - loss: 0.4285 - accuracy: 0.8297 - val_loss: 0.5002 - val_accuracy: 0.8208 - 108s/epoch - 115ms/step\n",
            "Epoch 36/50\n",
            "934/934 - 109s - loss: 0.4241 - accuracy: 0.8321 - val_loss: 0.4939 - val_accuracy: 0.8202 - 109s/epoch - 117ms/step\n",
            "Epoch 37/50\n",
            "934/934 - 110s - loss: 0.4256 - accuracy: 0.8318 - val_loss: 0.4954 - val_accuracy: 0.8198 - 110s/epoch - 118ms/step\n",
            "Epoch 38/50\n",
            "934/934 - 109s - loss: 0.4235 - accuracy: 0.8336 - val_loss: 0.4924 - val_accuracy: 0.8207 - 109s/epoch - 116ms/step\n",
            "Epoch 39/50\n",
            "934/934 - 108s - loss: 0.4238 - accuracy: 0.8326 - val_loss: 0.4928 - val_accuracy: 0.8204 - 108s/epoch - 115ms/step\n",
            "Epoch 40/50\n",
            "934/934 - 111s - loss: 0.4235 - accuracy: 0.8331 - val_loss: 0.4879 - val_accuracy: 0.8224 - 111s/epoch - 119ms/step\n",
            "Epoch 41/50\n",
            "934/934 - 107s - loss: 0.4176 - accuracy: 0.8340 - val_loss: 0.4918 - val_accuracy: 0.8223 - 107s/epoch - 115ms/step\n",
            "Epoch 42/50\n",
            "934/934 - 106s - loss: 0.4248 - accuracy: 0.8320 - val_loss: 0.4986 - val_accuracy: 0.8192 - 106s/epoch - 113ms/step\n",
            "Epoch 43/50\n",
            "934/934 - 108s - loss: 0.4180 - accuracy: 0.8341 - val_loss: 0.4955 - val_accuracy: 0.8212 - 108s/epoch - 116ms/step\n",
            "Epoch 44/50\n",
            "934/934 - 106s - loss: 0.4218 - accuracy: 0.8329 - val_loss: 0.4925 - val_accuracy: 0.8219 - 106s/epoch - 114ms/step\n",
            "Epoch 45/50\n",
            "934/934 - 107s - loss: 0.4176 - accuracy: 0.8334 - val_loss: 0.5004 - val_accuracy: 0.8200 - 107s/epoch - 115ms/step\n",
            "Epoch 46/50\n",
            "934/934 - 106s - loss: 0.4175 - accuracy: 0.8358 - val_loss: 0.4846 - val_accuracy: 0.8265 - 106s/epoch - 114ms/step\n",
            "Epoch 47/50\n",
            "934/934 - 108s - loss: 0.4126 - accuracy: 0.8358 - val_loss: 0.4927 - val_accuracy: 0.8232 - 108s/epoch - 116ms/step\n",
            "Epoch 48/50\n",
            "934/934 - 107s - loss: 0.4175 - accuracy: 0.8346 - val_loss: 0.4891 - val_accuracy: 0.8247 - 107s/epoch - 114ms/step\n",
            "Epoch 49/50\n",
            "934/934 - 109s - loss: 0.4087 - accuracy: 0.8372 - val_loss: 0.4950 - val_accuracy: 0.8223 - 109s/epoch - 117ms/step\n",
            "Epoch 50/50\n",
            "934/934 - 108s - loss: 0.4118 - accuracy: 0.8365 - val_loss: 0.4863 - val_accuracy: 0.8279 - 108s/epoch - 116ms/step\n"
          ]
        }
      ],
      "source": [
        "history = model.fit(padded_latih, label_latih, epochs=50, batch_size=64,\n",
        "                    validation_data=(padded_test, label_test), verbose=2,\n",
        "                    callbacks=callbacks)"
      ]
    },
    {
      "cell_type": "markdown",
      "metadata": {
        "id": "7j_-p5tdIUQs"
      },
      "source": [
        "# **Evaluasi Model**"
      ]
    },
    {
      "cell_type": "code",
      "execution_count": null,
      "metadata": {
        "colab": {
          "base_uri": "https://localhost:8080/"
        },
        "id": "sGc53Hs8IWSk",
        "outputId": "06a13db8-59a0-42af-b178-b1df46dda20b"
      },
      "outputs": [
        {
          "name": "stdout",
          "output_type": "stream",
          "text": [
            "467/467 [==============================] - 13s 28ms/step - loss: 0.5278 - accuracy: 0.8025\n"
          ]
        },
        {
          "data": {
            "text/plain": [
              "[0.5278318524360657, 0.8025038242340088]"
            ]
          },
          "execution_count": 28,
          "metadata": {},
          "output_type": "execute_result"
        }
      ],
      "source": [
        "model.evaluate(padded_test, label_test)"
      ]
    },
    {
      "cell_type": "markdown",
      "metadata": {
        "id": "P8Azh2YqIZ5d"
      },
      "source": [
        "# **Plot Loss**"
      ]
    },
    {
      "cell_type": "code",
      "execution_count": null,
      "metadata": {
        "colab": {
          "base_uri": "https://localhost:8080/",
          "height": 472
        },
        "id": "Tem1b0h8IcV1",
        "outputId": "00b13e8d-2866-49a9-d6dd-871e65c73a52"
      },
      "outputs": [
        {
          "data": {
            "image/png": "[encoded data removed]",
            "text/plain": [
              "<Figure size 640x480 with 1 Axes>"
            ]
          },
          "metadata": {},
          "output_type": "display_data"
        }
      ],
      "source": [
        "plt.plot(history.history['loss'])\n",
        "plt.plot(history.history['val_loss'])\n",
        "plt.title('Loss Model')\n",
        "plt.ylabel('loss')\n",
        "plt.xlabel('epoch')\n",
        "plt.legend(['train', 'test'], loc='lower left')\n",
        "plt.show()"
      ]
    },
    {
      "cell_type": "markdown",
      "metadata": {
        "id": "qAVvGEL2y46u"
      },
      "source": [
        "# **Plot Accuracy**"
      ]
    },
    {
      "cell_type": "code",
      "execution_count": null,
      "metadata": {
        "colab": {
          "base_uri": "https://localhost:8080/",
          "height": 472
        },
        "id": "Nuod0OUBy7i2",
        "outputId": "0e79f699-061a-4279-a179-6d2692142a05"
      },
      "outputs": [
        {
          "data": {
            "image/png": "[encoded data removed]",
            "text/plain": [
              "<Figure size 640x480 with 1 Axes>"
            ]
          },
          "metadata": {},
          "output_type": "display_data"
        }
      ],
      "source": [
        "plt.plot(history.history['accuracy'])\n",
        "plt.plot(history.history['val_accuracy'])\n",
        "plt.title('Akurasi Model')\n",
        "plt.ylabel('accuracy')\n",
        "plt.xlabel('epoch')\n",
        "plt.legend(['train', 'test'], loc='upper left')\n",
        "plt.show()"
      ]
    }
  ],
  "metadata": {
    "accelerator": "GPU",
    "colab": {
      "provenance": [],
      "mount_file_id": "1RJxgBrnXMhTaoyIMaeyWKJOe5Uca8-y2",
      "authorship_tag": "ABX9TyNikFz7lvhnYn3Z/LqAefRb",
      "include_colab_link": true
    },
    "kernelspec": {
      "display_name": "Python 3",
      "name": "python3"
    },
    "language_info": {
      "name": "python"
    }
  },
  "nbformat": 4,
  "nbformat_minor": 0
}